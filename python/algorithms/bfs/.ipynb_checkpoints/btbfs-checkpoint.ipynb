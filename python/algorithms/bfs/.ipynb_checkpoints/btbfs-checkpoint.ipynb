{
 "cells": [
  {
   "cell_type": "code",
   "execution_count": 69,
   "metadata": {},
   "outputs": [],
   "source": [
    "# Data Structures\n",
    "# Definition for a binary tree node.\n",
    "import sys\n",
    "sys.path.append(\"/Users/mtdp1/Documents/github/lcaj/python/algorithms/\")\n",
    "from queue import Queue\n",
    "# from utils.tree_utils import TreeNode\n",
    "# from utils.tree_utils import inorder_traversal, preorder_traversal\n",
    "class TreeNode:\n",
    "    def __init__(self, x):\n",
    "        self.val = x\n",
    "        self.left = None\n",
    "        self.right = None\n",
    "\n",
    "def inorder_traversal(root):\n",
    "    if root == None:\n",
    "        return\n",
    "    inorder_traversal(root.left)\n",
    "    print(root.val)\n",
    "    inorder_traversal(root.right)\n",
    "        \n",
    "def preorder_traversal(root):\n",
    "    if root == None:\n",
    "        return\n",
    "    print(root.val)\n",
    "    preorder_traversal(root.left)\n",
    "    preorder_traversal(root.right)\n",
    "        \n",
    "def bfs(root):\n",
    "    if root == None:\n",
    "        return\n",
    "    queue = Queue()\n",
    "    queue.put(root)\n",
    "    while queue.qsize() > 0:\n",
    "        qs = queue.qsize()\n",
    "        for i in range(0, qs):\n",
    "            node = queue.get()\n",
    "            print(node.val)\n",
    "            if not node.left:\n",
    "                queue.put(node.left)\n",
    "            if not node.right:\n",
    "                queue.put(node.right)\n",
    "            \n",
    "def minDepth(root: TreeNode) -> int:\n",
    "    if not root:\n",
    "            return 0\n",
    "    queue = Queue()\n",
    "    queue.put(root)\n",
    "    depth = 1\n",
    "    while queue.qsize() > 0:\n",
    "        qs = queue.qsize()\n",
    "        for i in range(0, qs):\n",
    "            node = queue.get()\n",
    "            if not node.left and not node.right:\n",
    "                return depth\n",
    "            if node.left:\n",
    "                queue.put(node.left)\n",
    "            if node.right:\n",
    "                queue.put(node.right)\n",
    "        depth += 1\n",
    "    return depth"
   ]
  },
  {
   "cell_type": "code",
   "execution_count": 70,
   "metadata": {},
   "outputs": [],
   "source": [
    "# data init\n",
    "root = TreeNode(4)\n",
    "root.left = TreeNode(2)\n",
    "root.right = TreeNode(6)\n",
    "root.left.left = TreeNode(1)\n",
    "root.left.right = TreeNode(3)\n",
    "# root.right.left = TreeNode(5)\n",
    "root.right.right = TreeNode(7)"
   ]
  },
  {
   "cell_type": "code",
   "execution_count": 71,
   "metadata": {},
   "outputs": [],
   "source": [
    "root1 = TreeNode(3)\n",
    "root1.left = TreeNode(9)\n",
    "root1.right = TreeNode(20)\n",
    "root1.right.left = TreeNode(15)\n",
    "root1.right.right = TreeNode(7)"
   ]
  },
  {
   "cell_type": "code",
   "execution_count": 72,
   "metadata": {},
   "outputs": [
    {
     "name": "stdout",
     "output_type": "stream",
     "text": [
      "2\n"
     ]
    }
   ],
   "source": [
    "# inorder_traversal(root)\n",
    "# preorder_traversal(root)\n",
    "print(minDepth(root1))"
   ]
  },
  {
   "cell_type": "code",
   "execution_count": null,
   "metadata": {},
   "outputs": [],
   "source": []
  }
 ],
 "metadata": {
  "kernelspec": {
   "display_name": "Python 3",
   "language": "python",
   "name": "python3"
  },
  "language_info": {
   "codemirror_mode": {
    "name": "ipython",
    "version": 3
   },
   "file_extension": ".py",
   "mimetype": "text/x-python",
   "name": "python",
   "nbconvert_exporter": "python",
   "pygments_lexer": "ipython3",
   "version": "3.7.3"
  }
 },
 "nbformat": 4,
 "nbformat_minor": 2
}
